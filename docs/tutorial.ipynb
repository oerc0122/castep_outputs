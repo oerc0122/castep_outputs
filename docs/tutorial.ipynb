{
 "cells": [
  {
   "cell_type": "markdown",
   "id": "17725195",
   "metadata": {},
   "source": [
    "# castep_outputs demo\n",
    "\n",
    "In this Jupyter Notebook we'll look at how to use the `castep_outputs` module to process CASTEP output files.\n",
    "\n",
    "\n",
    "First we'll set up some data to process."
   ]
  },
  {
   "cell_type": "code",
   "execution_count": null,
   "id": "88003e32",
   "metadata": {
    "lines_to_next_cell": 2
   },
   "outputs": [],
   "source": [
    "import pathlib\n",
    "\n",
    "data_path = pathlib.Path.cwd() / \"example_data\"\n",
    "examples = data_path / \"pair-pot-lj\"\n",
    "\n",
    "param_file = examples.with_suffix(\".param\")\n",
    "param_file"
   ]
  },
  {
   "cell_type": "code",
   "execution_count": null,
   "id": "e715a54d",
   "metadata": {},
   "outputs": [],
   "source": [
    "print(param_file.read_text())"
   ]
  },
  {
   "cell_type": "markdown",
   "id": "93362940",
   "metadata": {},
   "source": [
    "It is possible to use `castep_outputs` directly by importing the top-level castep_outputs and using `parse_single` to parse a single datafile."
   ]
  },
  {
   "cell_type": "code",
   "execution_count": null,
   "id": "c3e15b1a",
   "metadata": {},
   "outputs": [],
   "source": [
    "import castep_outputs\n",
    "\n",
    "lj_data = castep_outputs.parse_single(param_file)\n",
    "lj_data"
   ]
  },
  {
   "cell_type": "markdown",
   "id": "e16c4004",
   "metadata": {},
   "source": [
    "Note that many of the data are parsed into the appropriate Python types. e.g logicals to `bool`s and numeric types to their most likely type.\n",
    "\n",
    "`parse_single` works by determining the type of parser from the file extension. If we don't have a file extension, the parser will fail."
   ]
  },
  {
   "cell_type": "code",
   "execution_count": null,
   "id": "32e55660",
   "metadata": {},
   "outputs": [],
   "source": [
    "from io import StringIO\n",
    "cell_file = examples.with_suffix(\".cell\")\n",
    "\n",
    "file = StringIO(cell_file.read_text())\n",
    "\n",
    "try:\n",
    "    castep_outputs.parse_single(file)\n",
    "except TypeError as err:\n",
    "    print(f\"Oh no! {err=}\")"
   ]
  },
  {
   "cell_type": "markdown",
   "id": "7a233f83",
   "metadata": {},
   "source": [
    "To rectify this, we can explicitly pass the parser we want to use."
   ]
  },
  {
   "cell_type": "code",
   "execution_count": null,
   "id": "6ca01459",
   "metadata": {},
   "outputs": [],
   "source": [
    "file.seek(0)\n",
    "castep_outputs.parse_single(file, parser=\"cell\")"
   ]
  },
  {
   "cell_type": "markdown",
   "id": "e58a2512",
   "metadata": {},
   "source": [
    "Or pass it as the callable directly."
   ]
  },
  {
   "cell_type": "code",
   "execution_count": null,
   "id": "7a2841a4",
   "metadata": {},
   "outputs": [],
   "source": [
    "file.seek(0)\n",
    "castep_outputs.parse_single(file, parser=castep_outputs.parse_cell_file)"
   ]
  },
  {
   "cell_type": "markdown",
   "id": "d908470c",
   "metadata": {},
   "source": [
    "Alternatively, we can just apply the exact parser directly."
   ]
  },
  {
   "cell_type": "code",
   "execution_count": null,
   "id": "d090feaf",
   "metadata": {},
   "outputs": [],
   "source": [
    "castep_outputs.parse_param_file(param_file)"
   ]
  }
 ],
 "metadata": {
  "kernelspec": {
   "display_name": "Python 3 (ipykernel)",
   "language": "python",
   "name": "python3"
  }
 },
 "nbformat": 4,
 "nbformat_minor": 5
}
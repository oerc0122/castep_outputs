{
 "cells": [
  {
   "cell_type": "markdown",
   "metadata": {},
   "source": [
    "# castep outputs demo\n",
    "\n",
    "In this Jupyter Notebook we'll look at how to use the `castep_outputs` module to process CASTEP output files.\n",
    "\n",
    "\n",
    "This module can be used either as "
   ]
  },
  {
   "cell_type": "code",
   "execution_count": 8,
   "metadata": {},
   "outputs": [],
   "source": [
    "import castep_outputs\n",
    "import logging\n",
    "# my_dict = castep_outputs.parse_single('./ethanol.castep', loglevel=logging.INFO)"
   ]
  },
  {
   "cell_type": "code",
   "execution_count": null,
   "metadata": {},
   "outputs": [],
   "source": []
  }
 ],
 "metadata": {
  "kernelspec": {
   "display_name": "Python 3",
   "language": "python",
   "name": "python3"
  },
  "language_info": {
   "codemirror_mode": {
    "name": "ipython",
    "version": 3
   },
   "file_extension": ".py",
   "mimetype": "text/x-python",
   "name": "python",
   "nbconvert_exporter": "python",
   "pygments_lexer": "ipython3",
   "version": "3.9.15"
  },
  "widgets": {
   "application/vnd.jupyter.widget-state+json": {
    "state": {},
    "version_major": 2,
    "version_minor": 0
   }
  }
 },
 "nbformat": 4,
 "nbformat_minor": 4
}
